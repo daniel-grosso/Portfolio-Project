{
 "cells": [
  {
   "cell_type": "markdown",
   "metadata": {},
   "source": [
    "# IST256 Project Deliverable 4 (P4)\n",
    "\n",
    "## Phase 4: Reflection and Demo (8 of 52 points)\n",
    "\n",
    "**IMPORTANT:** PLEASE READ THIS ENTIRE NOTEBOOK BEFORE STARTING YOUR WORK!\n",
    "\n",
    "This submssion which accompanies P3, should include two videos:\n",
    "\n",
    "1. Code Demo\n",
    "2. Reflection\n",
    "\n",
    "Don't forget to record in your journal each time you work on the project.\n"
   ]
  },
  {
   "cell_type": "markdown",
   "metadata": {},
   "source": [
    "### Step 1: Code Demo\n",
    "\n",
    "Create a video under 5 minutes in length, which:\n",
    "\n",
    "- Explains your project at a very high level: give us the elevator pitch. \n",
    "- Demonstrates how your program works by actually runnning it. Make sure to demonstrate how your code solves the problem you set it out to and demonstrate it handles errors and bad input. \n",
    "- Explain what your code is doing, but DO NOT talk over specific lines of code.  For example you might say, “Now that you’ve entered a location, my program is finding the best price on hotels. It does this by searching 4 online service providers.”\n",
    "- includes a screen capture of the working program, with you talking over it as it works.\n",
    "- Again don't show us code, we can look at that. Give us your best shark tank or infomercial sales pitch. Focus us on what your program does, the problem it solves and then demonstrate it working.\n",
    "\n",
    "\n",
    "`--== Double-click and place the URL to your video reflection  below  ==--`\n",
    "\n",
    "https://www.youtube.com/watch?v=U74mDroTG2k&t=5s"
   ]
  },
  {
   "cell_type": "markdown",
   "metadata": {},
   "source": [
    "### Step 2: Project Reflection\n",
    "\n",
    "Provide A video reflection no more than 5 minutes long which covers what you learned from the experience of building your project. Your journal should help you to remember what to say here. The reflection should touch upon the following SPECIFICS:\n",
    "\n",
    "- Your successes and failures. \n",
    "- What you needed to change and why. \n",
    "- What would you do differently next time? \n",
    "- How would you improve it if you had more time? \n",
    "- What did you learn from the experience?\n",
    "\n",
    "\n",
    "YOU should appear in the video. Many students use their phones to record their reflections. The more specific you are, the better your grade.\n",
    "\n",
    "Upload the video to YouTube, Vimeo, video.syr.edu or some other video hosting service. Make sure the URL is accessible and we don't need to log-in to view it.\n",
    "\n",
    "`--== Double-click and place the URL to your video reflection  below  ==--`\n",
    "\n",
    "https://www.youtube.com/watch?v=nmS5Kgz1DrU\n"
   ]
  },
  {
   "cell_type": "markdown",
   "metadata": {},
   "source": [
    "### Help! How do I record Video, Audio and the Screen?\n",
    "\n",
    "If you don't know how to do this or don't have software, you can use the Universty's Kaltura system:\n",
    "\n",
    "1. [https://video.syr.edu](https://video.syr.edu) click to login and login with your NetID and Password.\n",
    "2. Once you are logged in click **Add New** -> **Kaltura Capture**\n",
    "3. Click the link to download and install Kaltura Capture on **Windows** or **Mac**\n",
    "4. After it installed use it to record your screen, video and microphone.\n",
    "5. When you finish recording, return to [https://video.syr.edu](https://video.syr.edu)\n",
    "6. Edit the video and select **Publish** -> **Unlisted**\n",
    "7. Go to the **Share** tab on the video to get a link to the video you can share.\n"
   ]
  },
  {
   "cell_type": "code",
   "execution_count": 1,
   "metadata": {},
   "outputs": [
    {
     "name": "stdout",
     "output_type": "stream",
     "text": [
      "=== SUMBISSON DETAILS ===\n",
      "Your Netid......... djgrosso\n",
      "Your Instructor.... dlnosky\n",
      "Assigment Name .... P4.ipynb\n",
      "Assignment Type ... Unknown\n",
      "Submission Date ... 2020-12-07 02:47:53 PM\n",
      "Due Date .......... 2020-12-07 11:59:00 PM\n",
      "\n",
      "=== SUBMITTING  ===\n",
      "Uploading: P4.ipynb\n",
      "To: dlnosky/project/P4.ipynb/djgrosso.ipynb ...\n",
      "Done!\n",
      "Reciept: 0b3b3c77e05c9b83e60b51cb9f3dc40d\n"
     ]
    }
   ],
   "source": [
    "# SAVE YOUR WORK FIRST! CTRL+S\n",
    "# RUN THIS CODE CELL TO TURN IN YOUR WORK!\n",
    "from ist256.submission import Submission\n",
    "Submission().submit()"
   ]
  },
  {
   "cell_type": "code",
   "execution_count": null,
   "metadata": {},
   "outputs": [],
   "source": []
  }
 ],
 "metadata": {
  "kernelspec": {
   "display_name": "Python 3",
   "language": "python",
   "name": "python3"
  },
  "language_info": {
   "codemirror_mode": {
    "name": "ipython",
    "version": 3
   },
   "file_extension": ".py",
   "mimetype": "text/x-python",
   "name": "python",
   "nbconvert_exporter": "python",
   "pygments_lexer": "ipython3",
   "version": "3.7.6"
  }
 },
 "nbformat": 4,
 "nbformat_minor": 4
}
