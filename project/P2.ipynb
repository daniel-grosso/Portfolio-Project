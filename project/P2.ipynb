{
 "cells": [
  {
   "cell_type": "markdown",
   "metadata": {},
   "source": [
    "# IST256 Project Deliverable 2 (P2)\n",
    "\n",
    "## Phase 2: The Project Pitch / Proof Of Concept (13 of 52 points)\n",
    "\n",
    "**IMPORTANT:** PLEASE READ THIS ENTIRE NOTEBOOK BEFORE STARTING YOUR WORK!\n",
    "\n",
    "The Pitch / Proof of Concept is a presentation of your project idea with evidence that your project is feasible:\n",
    "\n",
    "You will complete the following steps within this notebook then hand it in using the submission script.\n",
    "\n",
    "1. Restate your idea\n",
    "2. List links to **project References** (the datasets / API’s / Python packages / services / etc.) you require to complete your project. For each reference, explain what it is and why you require it to complete your project.\n",
    "3. Code examples you’ve written which demonstrate you understand how to use each project reference.\n",
    "4. Your main program’s design: Inputs and Outputs of your program, and a high level algorithm for your program. How will this program interact with the user? I'd like to see your high-level vision of how the final program will look and feel.\n",
    "\n",
    "\n",
    "Don't forget to record in your journal each time you work on the project.\n"
   ]
  },
  {
   "cell_type": "markdown",
   "metadata": {},
   "source": [
    "### Step 1: What is Your Idea, Again?\n",
    "\n",
    "Remind us of your project again!\n",
    "\n",
    "`--== Double-click and put the title or brief description of your project below  ==--`\n",
    "\n",
    "Title: Cocktail Generator\n",
    "\n",
    "You will have a choice to search a cocktail by name, by ingredient, or random. If you choose random, the program will display a random cocktail with image, name of cocktail, ingredients, measure of ingredients, suggested glass for that specific cocktail, and step by step instructions of how to make it. If you choose name, you will be able to search cokctails by first letter. It will show you all cokctails categoriezed by first letter. If you choose ingredient, you will input an ingredient, and the program will display all cocktails containing that ingredeint.  \n"
   ]
  },
  {
   "cell_type": "markdown",
   "metadata": {},
   "source": [
    "### Step 2: Project References\n",
    "\n",
    "Include references to  the other software you will incorporate into your project. Theese are the datasets, API's, Python packages, cloud services, etc. you require to make your project work. \n",
    "\n",
    "**At bare miniumm should have two references. Projects aspiring for higher marks should have more.**\n",
    "\n",
    "For each project reference, include: \n",
    "\n",
    "- Number each reference 1, 2, 3, etc...\n",
    "- Name and Purpose. What is it?\n",
    "- Where did you get it? Provide a URL to it so that I can review it.\n",
    "- How will you use it / why do you need it for your project?\n",
    "\n",
    "\n",
    "`--== Double-click and place your references below  ==--`\n",
    "\n",
    "https://www.thecocktaildb.com/api/json/v1/1: This is the main API that I will be using for my project. I got it from https://www.thecocktaildb.com, as well as all of the other ones I will be using. This website has a large database of many different apis you can use. All of them will start with what is shown, and after the v1/1, there are different endings for different data. \n",
    "\n",
    "1. https://www.thecocktaildb.com/api/json/v1/1/list.php?{x}=list: This api lists the categories, glasses, ingredients or alcoholic filters. I will use it to be able to pull out the different categorites needed. \n",
    "\n",
    "2. https://www.thecocktaildb.com/api/json/v1/1/random.php: This will provide you with a random cocktail. I will use this in my at_random function to provide a random cocktail.\n",
    "\n",
    "3. https://www.thecocktaildb.com/api/json/v1/1/search.php?f=a: This will search all cocktails by first letter. You will see when I use this, I use an f string in the function and put replaced the 'a' at the end with {c}. I will use this in my drink print_drink_names to print the drink names when searched by first letter.\n",
    "\n",
    "4. https://www.thecocktaildb.com/api/json/v1/1/search.php?s=margarita: This will search cocktail by name. You will see I also added in the function an f string and took away the ending and replaced margarita with a variable {drink_name}. I will use this in my by_name function when searching a cocktail by name. \n",
    "\n",
    "\n"
   ]
  },
  {
   "cell_type": "markdown",
   "metadata": {},
   "source": [
    "### Step 3: Code samples\n",
    "\n",
    "For each of your project references, write code which demonstrates you understand how to work with it. This should be your OWN WRITTEN CODE EXAMPLE and not code you copied from the Internet. Writing it yourself will help you understand it, orat least help you toidentify what you DON'T understand about it NOW rather than 1 day before the P3 deliverable is due.\n",
    "\n",
    "- If its a module, you should install it and demonstrate you can use it, calling the functions, etc you will need. \n",
    "- If its a dataset, demonstrate you can load the dataset into pandas and display the rows / columns you need. \n",
    "- If its an API, demostrate you can make a request to the API, get a JSON response, de-serialize the JSON into a Python object then access data within the Python object.\n",
    "- For other services demonstrate you can integate them in Jupyter notebook (play sounds, take a picture with the webcam, make a drop-down list, etc)\n",
    "\n",
    "A code cell is provided for up to 5 references. If you require more, add more cells.\n",
    "\n",
    "At the bare minimum you should write one sample of code for each project reference, but there can be as much as you feel is important for us to review. The code should reflect your needs to complete the project. Treat each sample as an independent program. You do not need to integrate them together.\n",
    "\n",
    "### If you can't get something working, ask questions\n",
    "\n",
    "While trying to write your code samples you may encounter varying degrees of success. It might be working, it might not! If things did not go well, we are here to help, but you must articulate the specifics of your problem. \"I can't figure out how to call the API\" or \"I don't know how to use the module\" are inadequate queries and demonstate a need for more effort on your part.\n",
    "\n",
    "After each project reference code cell, there is a markdown cell for your questions/comments pertaining to it. If your code doesn't work, we expect you to have questions and we expect those questions to be as specific as possible. Sometimes the mere process of trying to explain your specific problem helps you to arive at the solution or at least other ways to attack the problem."
   ]
  },
  {
   "cell_type": "code",
   "execution_count": 2,
   "metadata": {},
   "outputs": [],
   "source": [
    "#### TODO: Code Samples for project reference 1"
   ]
  },
  {
   "cell_type": "code",
   "execution_count": 23,
   "metadata": {},
   "outputs": [],
   "source": [
    "API = \"https://www.thecocktaildb.com/api/json/v1/1\"\n",
    "drink_names = {}\n",
    "import requests\n",
    "import json"
   ]
  },
  {
   "cell_type": "code",
   "execution_count": 36,
   "metadata": {},
   "outputs": [],
   "source": [
    "def get_info(x):\n",
    "    return requests.get(f'{API}/list.php?{x}=list').json()"
   ]
  },
  {
   "cell_type": "code",
   "execution_count": 37,
   "metadata": {},
   "outputs": [
    {
     "data": {
      "text/plain": [
       "{'drinks': [{'strCategory': 'Ordinary Drink'},\n",
       "  {'strCategory': 'Cocktail'},\n",
       "  {'strCategory': 'Milk / Float / Shake'},\n",
       "  {'strCategory': 'Other/Unknown'},\n",
       "  {'strCategory': 'Cocoa'},\n",
       "  {'strCategory': 'Shot'},\n",
       "  {'strCategory': 'Coffee / Tea'},\n",
       "  {'strCategory': 'Homemade Liqueur'},\n",
       "  {'strCategory': 'Punch / Party Drink'},\n",
       "  {'strCategory': 'Beer'},\n",
       "  {'strCategory': 'Soft Drink / Soda'}]}"
      ]
     },
     "execution_count": 37,
     "metadata": {},
     "output_type": "execute_result"
    }
   ],
   "source": [
    "get_info('c')"
   ]
  },
  {
   "cell_type": "markdown",
   "metadata": {},
   "source": [
    "#### Questions / comments about project reference 1\n",
    "\n",
    "\n",
    "`--== Double-click and place your questions below  ==--`\n",
    "\n",
    "There is acually 4 seperate urls for this api. To make it easier, I used an f string and put in {x} because the only difference in the four URL's is that one character. As you can see, 'c' will show the different categories, 'g' will show all the different glasses, 'i' will show all the ingredients, and 'a' will show if it is alcoholic or not. "
   ]
  },
  {
   "cell_type": "code",
   "execution_count": 14,
   "metadata": {},
   "outputs": [],
   "source": [
    "# TODO: Code Samples for project reference 2\n",
    "def at_random():\n",
    "    drink = requests.get(f\"{API}/random.php\").json()['drinks'][0]\n",
    "    pass #will need to add here a function that will actually retrieve the name of the drink, and the measure of ingredients"
   ]
  },
  {
   "cell_type": "markdown",
   "metadata": {},
   "source": [
    "#### Questions / comments about project reference 2\n",
    "\n",
    "\n",
    "`--== Double-click and place your questions below  ==--`\n",
    "\n",
    "This will be the random cocktail. You will have a choice if you want to just have a random one. I still need to actually code the function that will print out the drink name, whether it is alcoholic or not, the suggested type of glass that comes with it, and the measurements and ingredients. It will not require an API, so I wont put it here. However, it will look something like:\n",
    "def print_drink_details():\n",
    "    print(f\"\\nName: {drink['strDrink']} ({drink['strAlcoholic']})\") #strDrink and others taken from database\n",
    "    print(f\"Suggested glass: {drink['strGlass']}\" )\n",
    "    .... keep going "
   ]
  },
  {
   "cell_type": "code",
   "execution_count": 38,
   "metadata": {},
   "outputs": [],
   "source": [
    "# TODO: Code Samples for project reference 3\n",
    "def print_drink_names():\n",
    "    if not drink_names:\n",
    "        for i in range(65, 70): #goes up to 91 (z), keeping the range short for now, because takes a lot to load all of them\n",
    "            c = chr(i)\n",
    "            result = requests.get(f\"{API}/search.phpf={c}\") #should add a try except here later\n",
    "            drinks = result.json().get('drinks')\n",
    "            if drinks:\n",
    "                drink_names[c] = [drink['strDrink'] for drink in drinks]\n",
    "                \n",
    "    #tidy up the output here"
   ]
  },
  {
   "cell_type": "markdown",
   "metadata": {},
   "source": [
    "#### Questions / comments about project reference 3\n",
    "\n",
    "\n",
    "`--== Double-click and place your questions below  ==--`\n",
    "\n",
    "I think this should be able to print out the drink names going by the first letter. There was not an API available on the website for search by name, however there was one that will list all by the first letter. Also, for the 'for i in range' I kept it short for now because there are a lot of cocktails and it would take a little while to run. So I didnt put every letter in the range for now. I will also have to tidy up the output and probably textwrap it to make it look better when it outputs the drinks.  \n"
   ]
  },
  {
   "cell_type": "code",
   "execution_count": 34,
   "metadata": {},
   "outputs": [],
   "source": [
    "# TODO: Code Samples for project reference 4\n",
    "def by_name():\n",
    "    entry = input('\\nEnter drink name or 0 for drink names: ')\n",
    "    if entry:\n",
    "        if entry == '0':\n",
    "            print_drink_names()\n",
    "            drink_name = input('\\nEnter drink name: ')\n",
    "        else:\n",
    "            drink_name = entry\n",
    "            \n",
    "        result = requests.get(f\"{API}/search.php?s={drink_name}\") #add try except probably later\n",
    "        for drink in result.json()['drinks']:\n",
    "            pass # ADD HERE FUNCTION FOR GETTING DRINK NAME WITH MEASURES, INGREDIENTS, ACLOHOLIC, AND SUGGESTED GLASS"
   ]
  },
  {
   "cell_type": "markdown",
   "metadata": {},
   "source": [
    "#### Questions / comments about project reference 4\n",
    "\n",
    "\n",
    "`--== Double-click and place your questions below  ==--`\n",
    "\n",
    "This will allow you to search drink by name. As I said before, I still need to code my main part of the program which will output the drink name with measures and step by step indgredeints. As well as diplaying if is is alcoholic or not with a suggested glass. I will add that to the end of the code to actually print out when it is done. I will write the algorithm below. "
   ]
  },
  {
   "cell_type": "code",
   "execution_count": 35,
   "metadata": {},
   "outputs": [
    {
     "name": "stdout",
     "output_type": "stream",
     "text": [
      "\n",
      "*** COCKTAIL GENERATOR ***\n"
     ]
    },
    {
     "ename": "NameError",
     "evalue": "name 'by_ingredient' is not defined",
     "output_type": "error",
     "traceback": [
      "\u001b[0;31m---------------------------------------------------------------------------\u001b[0m",
      "\u001b[0;31mNameError\u001b[0m                                 Traceback (most recent call last)",
      "\u001b[0;32m<ipython-input-35-45b68ada574a>\u001b[0m in \u001b[0;36m<module>\u001b[0;34m\u001b[0m\n\u001b[1;32m     19\u001b[0m     \u001b[0mprint\u001b[0m\u001b[0;34m(\u001b[0m\u001b[0;34m'Q - Quit'\u001b[0m\u001b[0;34m)\u001b[0m\u001b[0;34m\u001b[0m\u001b[0;34m\u001b[0m\u001b[0m\n\u001b[1;32m     20\u001b[0m \u001b[0;34m\u001b[0m\u001b[0m\n\u001b[0;32m---> 21\u001b[0;31m \u001b[0mmain\u001b[0m\u001b[0;34m(\u001b[0m\u001b[0;34m)\u001b[0m\u001b[0;34m\u001b[0m\u001b[0;34m\u001b[0m\u001b[0m\n\u001b[0m",
      "\u001b[0;32m<ipython-input-35-45b68ada574a>\u001b[0m in \u001b[0;36mmain\u001b[0;34m()\u001b[0m\n\u001b[1;32m      2\u001b[0m \u001b[0;32mdef\u001b[0m \u001b[0mmain\u001b[0m\u001b[0;34m(\u001b[0m\u001b[0;34m)\u001b[0m\u001b[0;34m:\u001b[0m\u001b[0;34m\u001b[0m\u001b[0;34m\u001b[0m\u001b[0m\n\u001b[1;32m      3\u001b[0m     \u001b[0mprint\u001b[0m\u001b[0;34m(\u001b[0m\u001b[0;34m'\\n*** COCKTAIL GENERATOR ***'\u001b[0m\u001b[0;34m)\u001b[0m\u001b[0;34m\u001b[0m\u001b[0;34m\u001b[0m\u001b[0m\n\u001b[0;32m----> 4\u001b[0;31m     \u001b[0moptions\u001b[0m \u001b[0;34m=\u001b[0m \u001b[0;34m{\u001b[0m\u001b[0;34m'1'\u001b[0m\u001b[0;34m:\u001b[0m \u001b[0mby_name\u001b[0m\u001b[0;34m,\u001b[0m \u001b[0;34m'2'\u001b[0m\u001b[0;34m:\u001b[0m \u001b[0mby_ingredient\u001b[0m\u001b[0;34m,\u001b[0m \u001b[0;34m'3'\u001b[0m\u001b[0;34m:\u001b[0m \u001b[0mat_random\u001b[0m\u001b[0;34m}\u001b[0m\u001b[0;34m\u001b[0m\u001b[0;34m\u001b[0m\u001b[0m\n\u001b[0m\u001b[1;32m      5\u001b[0m     \u001b[0;32mwhile\u001b[0m \u001b[0;32mTrue\u001b[0m\u001b[0;34m:\u001b[0m\u001b[0;34m\u001b[0m\u001b[0;34m\u001b[0m\u001b[0m\n\u001b[1;32m      6\u001b[0m         \u001b[0mprint_menu\u001b[0m\u001b[0;34m(\u001b[0m\u001b[0moptions\u001b[0m\u001b[0;34m)\u001b[0m\u001b[0;34m\u001b[0m\u001b[0;34m\u001b[0m\u001b[0m\n",
      "\u001b[0;31mNameError\u001b[0m: name 'by_ingredient' is not defined"
     ]
    }
   ],
   "source": [
    "# TODO: Code Samples for project reference 5\n",
    "def main():\n",
    "    print('\\n*** COCKTAIL GENERATOR ***')\n",
    "    options = {'1': by_name, '2': by_ingredient, '3': at_random}\n",
    "    while True:\n",
    "        print_menu(options)\n",
    "        selection = input('\\n-> ')\n",
    "        if selection == 'q':\n",
    "            print('\\n*** GOODBYE ***\\n')\n",
    "            return\n",
    "        if selection in options:\n",
    "            options[selection]()\n",
    "\n",
    "def print_menu(options):\n",
    "    print('\\nSelect an option:\\n')\n",
    "    print('1 - By Name')\n",
    "    print('2 - By Ingredients')\n",
    "    print('3 - By Random')\n",
    "    print('Q - Quit')\n",
    "\n",
    "main()"
   ]
  },
  {
   "cell_type": "markdown",
   "metadata": {},
   "source": [
    "#### Questions / comments about project reference 5\n",
    "\n",
    "\n",
    "`--== Double-click and place your questions below  ==--`\n",
    "\n",
    "This is not really a project reference. I am just setting up my main menu with these functions. Still need to make the by_ingredient function so that I can search by ingredient. Will continue to work on that. "
   ]
  },
  {
   "cell_type": "markdown",
   "metadata": {},
   "source": [
    "### Step 4: Main Program Problem Analysis\n",
    "\n",
    "Take a first crack at the problem analysis for the main program of your project. This can be very high level. It is expected you will write your own functions, but you not have to consider that here. Focus on user interations with the program.\n",
    "\n",
    "\n",
    "\n",
    "Inputs: \n",
    "1. choose if you want to search by name of drink, by ingredient, at random, or quit.\n",
    "2. If by name, input name\n",
    "3. It by indgredient, input ingredients.\n",
    "\n",
    "Outputs:\n",
    "- Cocktail Image\n",
    "- Name of cocktail\n",
    "- Alcoholic or not\n",
    "- suggested glass\n",
    "- Ingredients\n",
    "\n",
    "\n",
    "Algorithm (Steps in Program):\n",
    "```\n",
    "define function (print drink details)\n",
    "    add thumbnail (will work more on this later)\n",
    "    print(f\"\\nName: {drink['strDrink']} ({drink['strAlcoholic']})\") \n",
    "    print(f\"Suggested glass: {drink['strGlass']}\" )\n",
    "    print Ingredients \n",
    "        for loop ranging 1 to 16 (maximum of 15 ingredients, not many have that)\n",
    "        if theres ingredients \n",
    "            find measure (some may not such as salt)\n",
    "            if measure\n",
    "                print measure of ingredient and ingredient\n",
    "            else \n",
    "                just print ingredient\n",
    "        else \n",
    "            break\n",
    "    print instructions\n",
    "    for loop, put instructions in step by step\n",
    "    \n",
    "*This function will be added to the end of the def by_name function and the at_random function as well.**\n",
    "\n",
    "            \n",
    "*Also will continue to work on the by_ingredient function to search by ingredient**\n",
    "```"
   ]
  },
  {
   "cell_type": "code",
   "execution_count": 41,
   "metadata": {},
   "outputs": [
    {
     "name": "stdout",
     "output_type": "stream",
     "text": [
      "=== SUMBISSON DETAILS ===\n",
      "Your Netid......... djgrosso\n",
      "Your Instructor.... dlnosky\n",
      "Assigment Name .... P2.ipynb\n",
      "Assignment Type ... Unknown\n",
      "Submission Date ... 2020-11-27 04:06:18 PM\n",
      "Due Date .......... 2020-11-27 11:59:00 PM\n",
      "\n",
      "=== WARNING: This is a Duplicate Submission ==\n",
      "You Submitted This Assigment On: 2020-11-27 04:05:28 PM\n",
      "Overwrite Your Previous Submission [y/n] ? y\n",
      "\n",
      "=== SUBMITTING  ===\n",
      "Uploading: P2.ipynb\n",
      "To: dlnosky/project/P2.ipynb/djgrosso.ipynb ...\n",
      "Done!\n",
      "Reciept: 108cb5518a3e0fc62ddd8d49277e2a8f\n"
     ]
    }
   ],
   "source": [
    "# SAVE YOUR WORK FIRST! CTRL+S\n",
    "# RUN THIS CODE CELL TO TURN IN YOUR WORK!\n",
    "from ist256.submission import Submission\n",
    "Submission().submit()"
   ]
  },
  {
   "cell_type": "code",
   "execution_count": null,
   "metadata": {},
   "outputs": [],
   "source": []
  }
 ],
 "metadata": {
  "kernelspec": {
   "display_name": "Python 3",
   "language": "python",
   "name": "python3"
  },
  "language_info": {
   "codemirror_mode": {
    "name": "ipython",
    "version": 3
   },
   "file_extension": ".py",
   "mimetype": "text/x-python",
   "name": "python",
   "nbconvert_exporter": "python",
   "pygments_lexer": "ipython3",
   "version": "3.7.6"
  }
 },
 "nbformat": 4,
 "nbformat_minor": 4
}
