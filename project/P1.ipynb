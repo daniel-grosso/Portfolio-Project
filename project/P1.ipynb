{
 "cells": [
  {
   "cell_type": "markdown",
   "metadata": {},
   "source": [
    "# IST256 Project Deliverable 1 (P1)\n",
    "\n",
    "\n",
    "## Project Objective\n",
    "\n",
    "Your primary objectives for the project are to create something novel, useful and innovative with Python code. You can draw your inspiration from the many examples given to you throughout the semester. Your project should clearly and explicitly demonstrate the level of programming knowledge that you have acquired in this course. The type of project you propose is up to you. Ultimately you are evaluated based on not only the idea itself but your execution of it, therefore your **project should be a representaiton of you and your abilities as a programmer.**  \n",
    "\n",
    "Our role is to help you to refine your idea. If it is simple enough we will expect a full implementation, if it’s complex then we’ll ask for a manifestation of your idea as a minimum viable product. It should be a proof of concept demonstrating how the bigger system might work. That being said, it is important to engage your small group instructor. It can only make your project and your grade better.\n",
    "\n",
    "\n",
    "Higher marks are granted to projects which:\n",
    "\n",
    "- are novel, useful and innovative,\n",
    "- clearly demonstrate what has been learned in the course,\n",
    "- clearly demonstrate you are capable of acquiring new programming skills and techniques independently, and\n",
    "- are extensions / mash ups of existing systems / services rather than just fabrications of what already exists.\n",
    "\n",
    "**Not all projects are high marks projects.**\n",
    "\n",
    "### Project Guidelines\n",
    "\n",
    "The project has the following strict guidelines, for logistical / record-keeping purposes.\n",
    "\n",
    "- You must work alone. No groups.\n",
    "- You must execute some version of the idea you have proposed originally. If you need to deviate your idea, you must get permission from your small group instructor.\n",
    "- Once your idea is set and approved it should not be altered.\n",
    "- You must document your project activities a code journal.\n",
    "- All deliverables must be handed in on time. **no late work is accepted**\n",
    "- Penalty for not adhering to the guidelines: grade of ZERO on the project, or that phase of the project, if appropriate.\n",
    "\n",
    "Don't leave anything to question. When in doubt, talk to your small group instructor.\n",
    "\n",
    "I highly suggest reviewing all for milestone notebooks (P1, P2, P3 and P4) prior to starting the project this will give you a holistic view of what you will need to do to be successful here.\n"
   ]
  },
  {
   "cell_type": "markdown",
   "metadata": {},
   "source": [
    "## Phase 1: The Idea (5 of 52 points)\n",
    "\n",
    "**IMPORTANT:** PLEASE READ THE ENTIRE NOTEBOOK BEFORE STARTING YOUR WORK.\n",
    "\n",
    "This is the formalization of your project idea. **You will hand in your work by executing the code script at the bottom of this page.**\n",
    "\n",
    "### Step 1: What is Your Idea?\n",
    "\n",
    "Think: If I could program *anything* in Python I would make and why? Think BIG! We understand you might not be able to implement some of your ideas, at this point, but don’t let that stop you from trying. Remember to take the project objectives and guidelines from above into consideration. Focus on the problem, not the solution. Don’t worry about *how* you will do it, instead focus on *what* you will attempt to do.\n",
    "\n",
    "`--== Double-click and put the title of your project below  ==--`\n",
    "\n",
    "The Cocktail Generator\n"
   ]
  },
  {
   "cell_type": "markdown",
   "metadata": {},
   "source": [
    "### Step 2: Project Research\n",
    "\n",
    "You should provide evidence through research that your idea is novel, useful, innovative and feasible. This ensures you've thought your idea through. We expect you to provide sources from the web or library to back your research. \n",
    "\n",
    "You should have **at least 3 sources** and for each source include a citation (if an online source, include a URL), and brief  reason it is one of your sources. For example it might demonstrates feasiblity, or it could be a source similar to what you plan to create in Python and include a description for how yours will be better / different.\n",
    "\n",
    "`--== Double-click and include your sources below here ==--`\n",
    "https://www.cocktailbuilder.com/\n",
    "This is similar to what I want to do, however, I want to add images and the list of ingrediants that you need to make the cocktail. \n",
    "https://www.diffordsguide.com/cocktails/search-by-ingredients\n",
    "This is a very advanced way of what I want to do. I will probably not have that many inputs in there, but this is very similar to what I want to do. \n",
    "https://bartender.com/cocktails/?age-verified=1dd24a070b\n",
    "This shows that this is a very feasible idea, and that it can be very useful to bartenders and drinkers across the world. I think that I will have fun doing this idea. \n",
    "\n"
   ]
  },
  {
   "cell_type": "markdown",
   "metadata": {},
   "source": [
    "### Step 3: Project Summary\n",
    "\n",
    "With the idea and research out of the way, its time to write a brief summary of your project idea, In 250 - 500 words.\n",
    "\n",
    "`--== Double-Click and Write Your Project Summary Below Here ==--`\n",
    "\n",
    "For my project, I want to make a cocktail or drink generator. First you will input any ingrediants you have or any ingrediants you want to have in your cocktail, and the generator will give you specific cocktail that has those ingrediants in them. Also, you will be able to put in multiple ingrediants, for example if you want to have 'lime' and 'salt' in your cocktail, the generator will give you all of the cocktail ideas that have lime and salt in them. It will also show pictures of the different cocktails, following with the ingrediants of each drink. I think this will be the perfect medium for me as a project. It will be challenging, yet not way too challenging. I have found some useful API's that I will play around with. I think this is also a feasible idea and useful too because it could be useful to all of the cocktail drinkers out there. Another thing that would be cool to add to the project is step by step instructions on how to make the drink. I am not sure if I will be able to find an API for that, but I will definelty try. I think this is a fun project idea that appeals to me and would be fun to work on. I think if I am able to find the right API, I will be able to get a good generator. This will also be useful to me, as I just turned 21 years old, and I am not very familiar with a lot of cocktails. I am excited, this should be fun.   \n"
   ]
  },
  {
   "cell_type": "markdown",
   "metadata": {},
   "source": [
    "### Step 4: Starting Your Code Journal\n",
    "\n",
    "One of the most valuable things you can do for yourself as a programmer is start a code journal. Each time you work on the project include the date, number of hours worked and a summary what you did. The most important part of your journal should be the comments. What did you do? Did you finish it? What issues are outstanding? What questions do you have? Did you hit any dead-ends? How did you work around the problem? Are you stuck? What are you stuck on?\n",
    "\n",
    "Each time before you start work on your project review the last entry of your journal to remind you of where you left off! When you embrace journaling you'll discover many valuable uses for it. I love it simply for all the things I don't have to try to keep in my head between coding sessions.\n",
    "\n",
    "If you want the best possible grade on your project, then you will have to maintain a regular code journal. It should include routine contributions you've made to the project. I have written an interactive journal as a Python program. Using the journal is simple. just Open `CodeJournal.ipynb` and run the code cell.\n",
    "\n",
    "[![(https://ist256.github.io/images/code-journal.gif)](https://ist256.github.io/images/code-journal.gif)](https://ist256.github.io/images/code-journal.gif)\n"
   ]
  },
  {
   "cell_type": "code",
   "execution_count": 2,
   "metadata": {},
   "outputs": [
    {
     "name": "stdout",
     "output_type": "stream",
     "text": [
      "=== SUMBISSON DETAILS ===\n",
      "Your Netid......... djgrosso\n",
      "Your Instructor.... dlnosky\n",
      "Assigment Name .... P1.ipynb\n",
      "Assignment Type ... Unknown\n",
      "Submission Date ... 2020-11-12 05:38:49 PM\n",
      "Due Date .......... 2020-11-13 11:59:00 PM\n",
      "\n",
      "=== WARNING: This is a Duplicate Submission ==\n",
      "You Submitted This Assigment On: 2020-11-12 05:38:28 PM\n",
      "Overwrite Your Previous Submission [y/n] ? y\n",
      "\n",
      "=== SUBMITTING  ===\n",
      "Uploading: P1.ipynb\n",
      "To: dlnosky/project/P1.ipynb/djgrosso.ipynb ...\n",
      "Done!\n",
      "Reciept: f546f42aa0d3843dffbc6298e0ca25c6\n"
     ]
    }
   ],
   "source": [
    "# SAVE YOUR WORK FIRST! CTRL+S\n",
    "# RUN THIS CODE CELL TO TURN IN YOUR WORK!\n",
    "from ist256.submission import Submission\n",
    "Submission().submit()"
   ]
  },
  {
   "cell_type": "code",
   "execution_count": null,
   "metadata": {},
   "outputs": [],
   "source": []
  }
 ],
 "metadata": {
  "kernelspec": {
   "display_name": "Python 3",
   "language": "python",
   "name": "python3"
  },
  "language_info": {
   "codemirror_mode": {
    "name": "ipython",
    "version": 3
   },
   "file_extension": ".py",
   "mimetype": "text/x-python",
   "name": "python",
   "nbconvert_exporter": "python",
   "pygments_lexer": "ipython3",
   "version": "3.7.6"
  }
 },
 "nbformat": 4,
 "nbformat_minor": 4
}
